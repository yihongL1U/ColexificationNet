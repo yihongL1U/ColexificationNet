{
 "cells": [
  {
   "cell_type": "code",
   "execution_count": 1,
   "id": "733c6667",
   "metadata": {},
   "outputs": [],
   "source": [
    "import pickle"
   ]
  },
  {
   "cell_type": "code",
   "execution_count": 2,
   "id": "358d9162",
   "metadata": {},
   "outputs": [],
   "source": [
    "conceptualizer_neighbors_dict = {}\n",
    "\n",
    "for num in [1, 5, 10, 20, 50, 100]:\n",
    "    with open(f\"./conceptualizer_{num}_neighbors_dict.pickle\", 'rb') as f:\n",
    "        conceptualizer_neighbors_dict[num] = pickle.load(f)\n",
    "    \n",
    "with open('./clics_neighbors_dict.pickle', 'rb') as f:\n",
    "    clics_neighbors_dict = pickle.load(f)"
   ]
  },
  {
   "cell_type": "code",
   "execution_count": 3,
   "id": "0e47b7a8",
   "metadata": {},
   "outputs": [
    {
     "name": "stdout",
     "output_type": "stream",
     "text": [
      "1: 5870\n",
      "5: 4028\n",
      "10: 3562\n",
      "20: 3133\n",
      "50: 2591\n",
      "100: 2221\n",
      "CLICS: 2919\n"
     ]
    }
   ],
   "source": [
    "for key, num in conceptualizer_neighbors_dict.items():\n",
    "    print(f\"{key}: {len(num)}\")\n",
    "print(f\"CLICS: {len(clics_neighbors_dict)}\")"
   ]
  },
  {
   "cell_type": "code",
   "execution_count": 4,
   "id": "366bd4b2",
   "metadata": {},
   "outputs": [],
   "source": [
    "# parse the CLICS concepts\n",
    "\n",
    "clics_concepts = [concept.lower() for concept in clics_neighbors_dict.keys()]\n",
    "\n",
    "# the concepts needs to be transformed\n",
    "\n",
    "exceptions = {'sell': '$sell', 'third': '$third', 'hundred': '$hundred', \n",
    "              'water': 'water', 'village': '$village', 'night': 'night', 'remember': '$remember', \n",
    "              'trumpet': '$trumpet', 'silver': '$silver', 'gold': '$gold'}"
   ]
  },
  {
   "cell_type": "code",
   "execution_count": 5,
   "id": "e08fade6",
   "metadata": {},
   "outputs": [
    {
     "name": "stdout",
     "output_type": "stream",
     "text": [
      "Minimum languages for one edge to be able to included: 1\n",
      "Number of common concepts: 1220\n",
      "Micro average Recall: 0.7125603864734299\n",
      "Macro average Recall: 0.7955338031421626\n",
      "\n",
      "Minimum languages for one edge to be able to included: 5\n",
      "Number of common concepts: 1056\n",
      "Micro average Recall: 0.6346426881211548\n",
      "Macro average Recall: 0.7658996686425739\n",
      "\n",
      "Minimum languages for one edge to be able to included: 10\n",
      "Number of common concepts: 1001\n",
      "Micro average Recall: 0.5769518583187827\n",
      "Macro average Recall: 0.7265016972696795\n",
      "\n",
      "Minimum languages for one edge to be able to included: 20\n",
      "Number of common concepts: 935\n",
      "Micro average Recall: 0.5376196990424077\n",
      "Macro average Recall: 0.6969999796876831\n",
      "\n",
      "Minimum languages for one edge to be able to included: 50\n",
      "Number of common concepts: 833\n",
      "Micro average Recall: 0.4756135445790618\n",
      "Macro average Recall: 0.6612323846906227\n",
      "\n",
      "Minimum languages for one edge to be able to included: 100\n",
      "Number of common concepts: 761\n",
      "Micro average Recall: 0.4186284544524053\n",
      "Macro average Recall: 0.6211787478419702\n",
      "\n"
     ]
    }
   ],
   "source": [
    "for num in [1, 5, 10, 20, 50, 100]:\n",
    "    print(f\"Minimum languages for one edge to be able to included: {num}\")\n",
    "    conceptualizer_concepts = [concept.replace('$', '') for concept in conceptualizer_neighbors_dict[num].keys()]\n",
    "    common_conceptes = set(clics_concepts).intersection(set(conceptualizer_concepts))\n",
    "    print(f\"Number of common concepts: {len(common_conceptes)}\")\n",
    "    \n",
    "    # for computing micro and macro recalls\n",
    "    \n",
    "    matched_number = 0\n",
    "    total_number = 0\n",
    "    recall_accumulate = 0\n",
    "    \n",
    "    for i, concept in enumerate(list(common_conceptes)):\n",
    "        clics_n = clics_neighbors_dict[concept.upper()]\n",
    "\n",
    "        # we only keep the neighbors which occur in our data\n",
    "        temp = []\n",
    "        for n in clics_n:\n",
    "            if n.lower() in exceptions:\n",
    "                temp.append(exceptions[n.lower()])\n",
    "            elif '$'+n.lower()+'$' in conceptualizer_neighbors_dict[num].keys():\n",
    "                temp.append('$'+n.lower()+'$')\n",
    "        clics_n = temp\n",
    "\n",
    "        conceptualizer_n = conceptualizer_neighbors_dict[num][exceptions[concept] if concept in exceptions \\\n",
    "                                                              else '$' + concept + '$']\n",
    "\n",
    "        associations_in_common = list(set(conceptualizer_n).intersection(set(clics_n)))\n",
    "        recall_accumulate += len(associations_in_common) / len(clics_n)\n",
    "        matched_number += len(associations_in_common)\n",
    "        total_number += len(clics_n)\n",
    "        \n",
    "    print(f\"Micro average Recall: {matched_number/total_number}\")\n",
    "    print(f\"Macro average Recall: {recall_accumulate/len(common_conceptes)}\") \n",
    "    \n",
    "    print()"
   ]
  },
  {
   "cell_type": "code",
   "execution_count": null,
   "id": "bb2bd043",
   "metadata": {},
   "outputs": [],
   "source": []
  }
 ],
 "metadata": {
  "kernelspec": {
   "display_name": "Python 3 (ipykernel)",
   "language": "python",
   "name": "python3"
  },
  "language_info": {
   "codemirror_mode": {
    "name": "ipython",
    "version": 3
   },
   "file_extension": ".py",
   "mimetype": "text/x-python",
   "name": "python",
   "nbconvert_exporter": "python",
   "pygments_lexer": "ipython3",
   "version": "3.7.16"
  }
 },
 "nbformat": 4,
 "nbformat_minor": 5
}
